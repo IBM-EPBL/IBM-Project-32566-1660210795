{
 "cells": [
  {
   "cell_type": "code",
   "execution_count": 3,
   "id": "f202b6a4",
   "metadata": {},
   "outputs": [],
   "source": [
    "import pandas as pd\n",
    "import numpy as np\n",
    "import matplotlib.pyplot as plt\n",
    "import seaborn as sns"
   ]
  },
  {
   "cell_type": "markdown",
   "id": "edc26160",
   "metadata": {},
   "source": [
    "# Loading the dataset"
   ]
  },
  {
   "cell_type": "code",
   "execution_count": 4,
   "id": "869769c4",
   "metadata": {},
   "outputs": [
    {
     "data": {
      "text/html": [
       "<div>\n",
       "<style scoped>\n",
       "    .dataframe tbody tr th:only-of-type {\n",
       "        vertical-align: middle;\n",
       "    }\n",
       "\n",
       "    .dataframe tbody tr th {\n",
       "        vertical-align: top;\n",
       "    }\n",
       "\n",
       "    .dataframe thead th {\n",
       "        text-align: right;\n",
       "    }\n",
       "</style>\n",
       "<table border=\"1\" class=\"dataframe\">\n",
       "  <thead>\n",
       "    <tr style=\"text-align: right;\">\n",
       "      <th></th>\n",
       "      <th>CustomerID</th>\n",
       "      <th>Gender</th>\n",
       "      <th>Age</th>\n",
       "      <th>Annual Income (k$)</th>\n",
       "      <th>Spending Score (1-100)</th>\n",
       "    </tr>\n",
       "  </thead>\n",
       "  <tbody>\n",
       "    <tr>\n",
       "      <th>0</th>\n",
       "      <td>1</td>\n",
       "      <td>Male</td>\n",
       "      <td>19</td>\n",
       "      <td>15</td>\n",
       "      <td>39</td>\n",
       "    </tr>\n",
       "    <tr>\n",
       "      <th>1</th>\n",
       "      <td>2</td>\n",
       "      <td>Male</td>\n",
       "      <td>21</td>\n",
       "      <td>15</td>\n",
       "      <td>81</td>\n",
       "    </tr>\n",
       "    <tr>\n",
       "      <th>2</th>\n",
       "      <td>3</td>\n",
       "      <td>Female</td>\n",
       "      <td>20</td>\n",
       "      <td>16</td>\n",
       "      <td>6</td>\n",
       "    </tr>\n",
       "    <tr>\n",
       "      <th>3</th>\n",
       "      <td>4</td>\n",
       "      <td>Female</td>\n",
       "      <td>23</td>\n",
       "      <td>16</td>\n",
       "      <td>77</td>\n",
       "    </tr>\n",
       "    <tr>\n",
       "      <th>4</th>\n",
       "      <td>5</td>\n",
       "      <td>Female</td>\n",
       "      <td>31</td>\n",
       "      <td>17</td>\n",
       "      <td>40</td>\n",
       "    </tr>\n",
       "    <tr>\n",
       "      <th>...</th>\n",
       "      <td>...</td>\n",
       "      <td>...</td>\n",
       "      <td>...</td>\n",
       "      <td>...</td>\n",
       "      <td>...</td>\n",
       "    </tr>\n",
       "    <tr>\n",
       "      <th>195</th>\n",
       "      <td>196</td>\n",
       "      <td>Female</td>\n",
       "      <td>35</td>\n",
       "      <td>120</td>\n",
       "      <td>79</td>\n",
       "    </tr>\n",
       "    <tr>\n",
       "      <th>196</th>\n",
       "      <td>197</td>\n",
       "      <td>Female</td>\n",
       "      <td>45</td>\n",
       "      <td>126</td>\n",
       "      <td>28</td>\n",
       "    </tr>\n",
       "    <tr>\n",
       "      <th>197</th>\n",
       "      <td>198</td>\n",
       "      <td>Male</td>\n",
       "      <td>32</td>\n",
       "      <td>126</td>\n",
       "      <td>74</td>\n",
       "    </tr>\n",
       "    <tr>\n",
       "      <th>198</th>\n",
       "      <td>199</td>\n",
       "      <td>Male</td>\n",
       "      <td>32</td>\n",
       "      <td>137</td>\n",
       "      <td>18</td>\n",
       "    </tr>\n",
       "    <tr>\n",
       "      <th>199</th>\n",
       "      <td>200</td>\n",
       "      <td>Male</td>\n",
       "      <td>30</td>\n",
       "      <td>137</td>\n",
       "      <td>83</td>\n",
       "    </tr>\n",
       "  </tbody>\n",
       "</table>\n",
       "<p>200 rows × 5 columns</p>\n",
       "</div>"
      ],
      "text/plain": [
       "     CustomerID  Gender  Age  Annual Income (k$)  Spending Score (1-100)\n",
       "0             1    Male   19                  15                      39\n",
       "1             2    Male   21                  15                      81\n",
       "2             3  Female   20                  16                       6\n",
       "3             4  Female   23                  16                      77\n",
       "4             5  Female   31                  17                      40\n",
       "..          ...     ...  ...                 ...                     ...\n",
       "195         196  Female   35                 120                      79\n",
       "196         197  Female   45                 126                      28\n",
       "197         198    Male   32                 126                      74\n",
       "198         199    Male   32                 137                      18\n",
       "199         200    Male   30                 137                      83\n",
       "\n",
       "[200 rows x 5 columns]"
      ]
     },
     "execution_count": 4,
     "metadata": {},
     "output_type": "execute_result"
    }
   ],
   "source": [
    "df = pd.read_csv('Mall_Customers.csv')\n",
    "df"
   ]
  },
  {
   "cell_type": "markdown",
   "id": "0c3999c5",
   "metadata": {},
   "source": [
    "# Visualizations"
   ]
  },
  {
   "cell_type": "markdown",
   "id": "5ac19b90",
   "metadata": {},
   "source": [
    "# Univariate Analysis"
   ]
  },
  {
   "cell_type": "code",
   "execution_count": 9,
   "id": "25d7d7e8",
   "metadata": {},
   "outputs": [
    {
     "data": {
      "text/plain": [
       "(array([16., 20., 10., 17., 35., 37., 11., 24., 14., 16.]),\n",
       " array([ 1. , 10.8, 20.6, 30.4, 40.2, 50. , 59.8, 69.6, 79.4, 89.2, 99. ]),\n",
       " <BarContainer object of 10 artists>)"
      ]
     },
     "execution_count": 9,
     "metadata": {},
     "output_type": "execute_result"
    },
    {
     "data": {
      "image/png": "[encoded data removed]",
      "text/plain": [
       "<Figure size 432x288 with 1 Axes>"
      ]
     },
     "metadata": {
      "needs_background": "light"
     },
     "output_type": "display_data"
    }
   ],
   "source": [
    "plt.hist(df['Spending Score (1-100)'])"
   ]
  },
  {
   "cell_type": "code",
   "execution_count": 10,
   "id": "6a4d7979",
   "metadata": {},
   "outputs": [
    {
     "data": {
      "text/plain": [
       "(array([24., 22., 28., 38., 30., 36.,  8.,  6.,  4.,  4.]),\n",
       " array([ 15. ,  27.2,  39.4,  51.6,  63.8,  76. ,  88.2, 100.4, 112.6,\n",
       "        124.8, 137. ]),\n",
       " <BarContainer object of 10 artists>)"
      ]
     },
     "execution_count": 10,
     "metadata": {},
     "output_type": "execute_result"
    },
    {
     "data": {
      "image/png": "[encoded data removed]",
      "text/plain": [
       "<Figure size 432x288 with 1 Axes>"
      ]
     },
     "metadata": {
      "needs_background": "light"
     },
     "output_type": "display_data"
    }
   ],
   "source": [
    "plt.hist(df['Annual Income (k$)'])"
   ]
  },
  {
   "cell_type": "code",
   "execution_count": 11,
   "id": "82946681",
   "metadata": {},
   "outputs": [
    {
     "data": {
      "text/plain": [
       "(array([31., 19., 34., 29., 16., 26., 15., 10.,  6., 14.]),\n",
       " array([18. , 23.2, 28.4, 33.6, 38.8, 44. , 49.2, 54.4, 59.6, 64.8, 70. ]),\n",
       " <BarContainer object of 10 artists>)"
      ]
     },
     "execution_count": 11,
     "metadata": {},
     "output_type": "execute_result"
    },
    {
     "data": {
      "image/png": "[encoded data removed]",
      "text/plain": [
       "<Figure size 432x288 with 1 Axes>"
      ]
     },
     "metadata": {
      "needs_background": "light"
     },
     "output_type": "display_data"
    }
   ],
   "source": [
    "plt.hist(df['Age'])"
   ]
  },
  {
   "cell_type": "markdown",
   "id": "1e6ec6d5",
   "metadata": {},
   "source": [
    "# Bi-Variate Analysis"
   ]
  },
  {
   "cell_type": "code",
   "execution_count": 13,
   "id": "924f494f",
   "metadata": {},
   "outputs": [
    {
     "data": {
      "text/plain": [
       "<AxesSubplot:>"
      ]
     },
     "execution_count": 13,
     "metadata": {},
     "output_type": "execute_result"
    },
    {
     "data": {
      "image/png": "[encoded data removed]",
      "text/plain": [
       "<Figure size 432x288 with 2 Axes>"
      ]
     },
     "metadata": {
      "needs_background": "light"
     },
     "output_type": "display_data"
    }
   ],
   "source": [
    "sns.heatmap(df.corr(), annot = True)"
   ]
  },
  {
   "cell_type": "code",
   "execution_count": 106,
   "id": "1558b79c",
   "metadata": {},
   "outputs": [
    {
     "data": {
      "text/plain": [
       "<AxesSubplot:xlabel='Annual Income (k$)', ylabel='Spending Score (1-100)'>"
      ]
     },
     "execution_count": 106,
     "metadata": {},
     "output_type": "execute_result"
    },
    {
     "data": {
      "image/png": "[encoded data removed]",
      "text/plain": [
       "<Figure size 432x288 with 1 Axes>"
      ]
     },
     "metadata": {
      "needs_background": "light"
     },
     "output_type": "display_data"
    }
   ],
   "source": [
    "sns.scatterplot(df['Annual Income (k$)'], df['Spending Score (1-100)'])"
   ]
  },
  {
   "cell_type": "code",
   "execution_count": 50,
   "id": "4794375d",
   "metadata": {},
   "outputs": [
    {
     "name": "stderr",
     "output_type": "stream",
     "text": [
      "C:\\ProgramData\\Anaconda3\\lib\\site-packages\\seaborn\\_decorators.py:36: FutureWarning: Pass the following variables as keyword args: x, y. From version 0.12, the only valid positional argument will be `data`, and passing other arguments without an explicit keyword will result in an error or misinterpretation.\n",
      "  warnings.warn(\n"
     ]
    },
    {
     "data": {
      "text/plain": [
       "<AxesSubplot:xlabel='Gender', ylabel='Age'>"
      ]
     },
     "execution_count": 50,
     "metadata": {},
     "output_type": "execute_result"
    },
    {
     "data": {
      "image/png": "[encoded data removed]",
      "text/plain": [
       "<Figure size 432x288 with 1 Axes>"
      ]
     },
     "metadata": {
      "needs_background": "light"
     },
     "output_type": "display_data"
    }
   ],
   "source": [
    "sns.barplot(df['Gender'], df['Age'])"
   ]
  },
  {
   "cell_type": "markdown",
   "id": "ae7b27dc",
   "metadata": {},
   "source": [
    "# Multi-variate Analysis"
   ]
  },
  {
   "cell_type": "code",
   "execution_count": 18,
   "id": "b8948f42",
   "metadata": {},
   "outputs": [
    {
     "data": {
      "text/plain": [
       "<seaborn.axisgrid.PairGrid at 0x253e77fedc0>"
      ]
     },
     "execution_count": 18,
     "metadata": {},
     "output_type": "execute_result"
    },
    {
     "data": {
      "image/png": "[encoded data removed]",
      "text/plain": [
       "<Figure size 900x900 with 30 Axes>"
      ]
     },
     "metadata": {
      "needs_background": "light"
     },
     "output_type": "display_data"
    }
   ],
   "source": [
    "sns.pairplot(df)"
   ]
  },
  {
   "cell_type": "code",
   "execution_count": 19,
   "id": "c013ac5f",
   "metadata": {},
   "outputs": [
    {
     "data": {
      "text/plain": [
       "<AxesSubplot:>"
      ]
     },
     "execution_count": 19,
     "metadata": {},
     "output_type": "execute_result"
    },
    {
     "data": {
      "image/png": "[encoded data removed]",
      "text/plain": [
       "<Figure size 432x288 with 2 Axes>"
      ]
     },
     "metadata": {
      "needs_background": "light"
     },
     "output_type": "display_data"
    }
   ],
   "source": [
    "sns.heatmap(df)"
   ]
  },
  {
   "cell_type": "markdown",
   "id": "187d20f9",
   "metadata": {},
   "source": [
    "# Perform descriptive statistics on the dataset"
   ]
  },
  {
   "cell_type": "code",
   "execution_count": 20,
   "id": "f6e36210",
   "metadata": {},
   "outputs": [
    {
     "name": "stdout",
     "output_type": "stream",
     "text": [
      "<class 'pandas.core.frame.DataFrame'>\n",
      "RangeIndex: 200 entries, 0 to 199\n",
      "Data columns (total 5 columns):\n",
      " #   Column                  Non-Null Count  Dtype\n",
      "---  ------                  --------------  -----\n",
      " 0   CustomerID              200 non-null    int64\n",
      " 1   Gender                  200 non-null    int32\n",
      " 2   Age                     200 non-null    int64\n",
      " 3   Annual Income (k$)      200 non-null    int64\n",
      " 4   Spending Score (1-100)  200 non-null    int64\n",
      "dtypes: int32(1), int64(4)\n",
      "memory usage: 7.2 KB\n"
     ]
    }
   ],
   "source": [
    "df.info()"
   ]
  },
  {
   "cell_type": "code",
   "execution_count": 21,
   "id": "8760d938",
   "metadata": {},
   "outputs": [
    {
     "data": {
      "text/html": [
       "<div>\n",
       "<style scoped>\n",
       "    .dataframe tbody tr th:only-of-type {\n",
       "        vertical-align: middle;\n",
       "    }\n",
       "\n",
       "    .dataframe tbody tr th {\n",
       "        vertical-align: top;\n",
       "    }\n",
       "\n",
       "    .dataframe thead th {\n",
       "        text-align: right;\n",
       "    }\n",
       "</style>\n",
       "<table border=\"1\" class=\"dataframe\">\n",
       "  <thead>\n",
       "    <tr style=\"text-align: right;\">\n",
       "      <th></th>\n",
       "      <th>CustomerID</th>\n",
       "      <th>Gender</th>\n",
       "      <th>Age</th>\n",
       "      <th>Annual Income (k$)</th>\n",
       "      <th>Spending Score (1-100)</th>\n",
       "    </tr>\n",
       "  </thead>\n",
       "  <tbody>\n",
       "    <tr>\n",
       "      <th>count</th>\n",
       "      <td>200.000000</td>\n",
       "      <td>200.000000</td>\n",
       "      <td>200.000000</td>\n",
       "      <td>200.000000</td>\n",
       "      <td>200.000000</td>\n",
       "    </tr>\n",
       "    <tr>\n",
       "      <th>mean</th>\n",
       "      <td>100.500000</td>\n",
       "      <td>0.440000</td>\n",
       "      <td>38.850000</td>\n",
       "      <td>60.560000</td>\n",
       "      <td>50.200000</td>\n",
       "    </tr>\n",
       "    <tr>\n",
       "      <th>std</th>\n",
       "      <td>57.879185</td>\n",
       "      <td>0.497633</td>\n",
       "      <td>13.969007</td>\n",
       "      <td>26.264721</td>\n",
       "      <td>25.823522</td>\n",
       "    </tr>\n",
       "    <tr>\n",
       "      <th>min</th>\n",
       "      <td>1.000000</td>\n",
       "      <td>0.000000</td>\n",
       "      <td>18.000000</td>\n",
       "      <td>15.000000</td>\n",
       "      <td>1.000000</td>\n",
       "    </tr>\n",
       "    <tr>\n",
       "      <th>25%</th>\n",
       "      <td>50.750000</td>\n",
       "      <td>0.000000</td>\n",
       "      <td>28.750000</td>\n",
       "      <td>41.500000</td>\n",
       "      <td>34.750000</td>\n",
       "    </tr>\n",
       "    <tr>\n",
       "      <th>50%</th>\n",
       "      <td>100.500000</td>\n",
       "      <td>0.000000</td>\n",
       "      <td>36.000000</td>\n",
       "      <td>61.500000</td>\n",
       "      <td>50.000000</td>\n",
       "    </tr>\n",
       "    <tr>\n",
       "      <th>75%</th>\n",
       "      <td>150.250000</td>\n",
       "      <td>1.000000</td>\n",
       "      <td>49.000000</td>\n",
       "      <td>78.000000</td>\n",
       "      <td>73.000000</td>\n",
       "    </tr>\n",
       "    <tr>\n",
       "      <th>max</th>\n",
       "      <td>200.000000</td>\n",
       "      <td>1.000000</td>\n",
       "      <td>70.000000</td>\n",
       "      <td>137.000000</td>\n",
       "      <td>99.000000</td>\n",
       "    </tr>\n",
       "  </tbody>\n",
       "</table>\n",
       "</div>"
      ],
      "text/plain": [
       "       CustomerID      Gender         Age  Annual Income (k$)  \\\n",
       "count  200.000000  200.000000  200.000000          200.000000   \n",
       "mean   100.500000    0.440000   38.850000           60.560000   \n",
       "std     57.879185    0.497633   13.969007           26.264721   \n",
       "min      1.000000    0.000000   18.000000           15.000000   \n",
       "25%     50.750000    0.000000   28.750000           41.500000   \n",
       "50%    100.500000    0.000000   36.000000           61.500000   \n",
       "75%    150.250000    1.000000   49.000000           78.000000   \n",
       "max    200.000000    1.000000   70.000000          137.000000   \n",
       "\n",
       "       Spending Score (1-100)  \n",
       "count              200.000000  \n",
       "mean                50.200000  \n",
       "std                 25.823522  \n",
       "min                  1.000000  \n",
       "25%                 34.750000  \n",
       "50%                 50.000000  \n",
       "75%                 73.000000  \n",
       "max                 99.000000  "
      ]
     },
     "execution_count": 21,
     "metadata": {},
     "output_type": "execute_result"
    }
   ],
   "source": [
    "df.describe()"
   ]
  },
  {
   "cell_type": "code",
   "execution_count": 22,
   "id": "790bf27b",
   "metadata": {},
   "outputs": [
    {
     "data": {
      "text/plain": [
       "CustomerID                0.000000\n",
       "Gender                    0.243578\n",
       "Age                       0.485569\n",
       "Annual Income (k$)        0.321843\n",
       "Spending Score (1-100)   -0.047220\n",
       "dtype: float64"
      ]
     },
     "execution_count": 22,
     "metadata": {},
     "output_type": "execute_result"
    }
   ],
   "source": [
    "df.skew()"
   ]
  },
  {
   "cell_type": "code",
   "execution_count": 23,
   "id": "dce82efd",
   "metadata": {},
   "outputs": [
    {
     "data": {
      "text/plain": [
       "CustomerID               -1.200000\n",
       "Gender                   -1.960375\n",
       "Age                      -0.671573\n",
       "Annual Income (k$)       -0.098487\n",
       "Spending Score (1-100)   -0.826629\n",
       "dtype: float64"
      ]
     },
     "execution_count": 23,
     "metadata": {},
     "output_type": "execute_result"
    }
   ],
   "source": [
    "df.kurt()"
   ]
  },
  {
   "cell_type": "code",
   "execution_count": 24,
   "id": "b434d61c",
   "metadata": {},
   "outputs": [
    {
     "data": {
      "text/html": [
       "<div>\n",
       "<style scoped>\n",
       "    .dataframe tbody tr th:only-of-type {\n",
       "        vertical-align: middle;\n",
       "    }\n",
       "\n",
       "    .dataframe tbody tr th {\n",
       "        vertical-align: top;\n",
       "    }\n",
       "\n",
       "    .dataframe thead th {\n",
       "        text-align: right;\n",
       "    }\n",
       "</style>\n",
       "<table border=\"1\" class=\"dataframe\">\n",
       "  <thead>\n",
       "    <tr style=\"text-align: right;\">\n",
       "      <th></th>\n",
       "      <th>CustomerID</th>\n",
       "      <th>Gender</th>\n",
       "      <th>Age</th>\n",
       "      <th>Annual Income (k$)</th>\n",
       "      <th>Spending Score (1-100)</th>\n",
       "    </tr>\n",
       "  </thead>\n",
       "  <tbody>\n",
       "    <tr>\n",
       "      <th>CustomerID</th>\n",
       "      <td>1.000000</td>\n",
       "      <td>0.057400</td>\n",
       "      <td>-0.026763</td>\n",
       "      <td>0.977548</td>\n",
       "      <td>0.013835</td>\n",
       "    </tr>\n",
       "    <tr>\n",
       "      <th>Gender</th>\n",
       "      <td>0.057400</td>\n",
       "      <td>1.000000</td>\n",
       "      <td>0.060867</td>\n",
       "      <td>0.056410</td>\n",
       "      <td>-0.058109</td>\n",
       "    </tr>\n",
       "    <tr>\n",
       "      <th>Age</th>\n",
       "      <td>-0.026763</td>\n",
       "      <td>0.060867</td>\n",
       "      <td>1.000000</td>\n",
       "      <td>-0.012398</td>\n",
       "      <td>-0.327227</td>\n",
       "    </tr>\n",
       "    <tr>\n",
       "      <th>Annual Income (k$)</th>\n",
       "      <td>0.977548</td>\n",
       "      <td>0.056410</td>\n",
       "      <td>-0.012398</td>\n",
       "      <td>1.000000</td>\n",
       "      <td>0.009903</td>\n",
       "    </tr>\n",
       "    <tr>\n",
       "      <th>Spending Score (1-100)</th>\n",
       "      <td>0.013835</td>\n",
       "      <td>-0.058109</td>\n",
       "      <td>-0.327227</td>\n",
       "      <td>0.009903</td>\n",
       "      <td>1.000000</td>\n",
       "    </tr>\n",
       "  </tbody>\n",
       "</table>\n",
       "</div>"
      ],
      "text/plain": [
       "                        CustomerID    Gender       Age  Annual Income (k$)  \\\n",
       "CustomerID                1.000000  0.057400 -0.026763            0.977548   \n",
       "Gender                    0.057400  1.000000  0.060867            0.056410   \n",
       "Age                      -0.026763  0.060867  1.000000           -0.012398   \n",
       "Annual Income (k$)        0.977548  0.056410 -0.012398            1.000000   \n",
       "Spending Score (1-100)    0.013835 -0.058109 -0.327227            0.009903   \n",
       "\n",
       "                        Spending Score (1-100)  \n",
       "CustomerID                            0.013835  \n",
       "Gender                               -0.058109  \n",
       "Age                                  -0.327227  \n",
       "Annual Income (k$)                    0.009903  \n",
       "Spending Score (1-100)                1.000000  "
      ]
     },
     "execution_count": 24,
     "metadata": {},
     "output_type": "execute_result"
    }
   ],
   "source": [
    "df.corr()"
   ]
  },
  {
   "cell_type": "code",
   "execution_count": 25,
   "id": "d5f170f3",
   "metadata": {},
   "outputs": [
    {
     "data": {
      "text/plain": [
       "CustomerID                3350.000000\n",
       "Gender                       0.247638\n",
       "Age                        195.133166\n",
       "Annual Income (k$)         689.835578\n",
       "Spending Score (1-100)     666.854271\n",
       "dtype: float64"
      ]
     },
     "execution_count": 25,
     "metadata": {},
     "output_type": "execute_result"
    }
   ],
   "source": [
    "df.var()"
   ]
  },
  {
   "cell_type": "code",
   "execution_count": 26,
   "id": "4c28bfdf",
   "metadata": {},
   "outputs": [
    {
     "data": {
      "text/plain": [
       "CustomerID                57.879185\n",
       "Gender                     0.497633\n",
       "Age                       13.969007\n",
       "Annual Income (k$)        26.264721\n",
       "Spending Score (1-100)    25.823522\n",
       "dtype: float64"
      ]
     },
     "execution_count": 26,
     "metadata": {},
     "output_type": "execute_result"
    }
   ],
   "source": [
    "df.std()"
   ]
  },
  {
   "cell_type": "markdown",
   "id": "f5bbcde0",
   "metadata": {},
   "source": [
    "# Check for Missing values and deal with them"
   ]
  },
  {
   "cell_type": "code",
   "execution_count": 27,
   "id": "d0312645",
   "metadata": {},
   "outputs": [
    {
     "data": {
      "text/plain": [
       "CustomerID                0\n",
       "Gender                    0\n",
       "Age                       0\n",
       "Annual Income (k$)        0\n",
       "Spending Score (1-100)    0\n",
       "dtype: int64"
      ]
     },
     "execution_count": 27,
     "metadata": {},
     "output_type": "execute_result"
    }
   ],
   "source": [
    "df.isnull().sum()"
   ]
  },
  {
   "cell_type": "code",
   "execution_count": 28,
   "id": "faa7095a",
   "metadata": {},
   "outputs": [
    {
     "data": {
      "text/plain": [
       "CustomerID                False\n",
       "Gender                    False\n",
       "Age                       False\n",
       "Annual Income (k$)        False\n",
       "Spending Score (1-100)    False\n",
       "dtype: bool"
      ]
     },
     "execution_count": 28,
     "metadata": {},
     "output_type": "execute_result"
    }
   ],
   "source": [
    "df.isnull().any()"
   ]
  },
  {
   "cell_type": "code",
   "execution_count": 30,
   "id": "439db765",
   "metadata": {},
   "outputs": [
    {
     "data": {
      "text/plain": [
       "False"
      ]
     },
     "execution_count": 30,
     "metadata": {},
     "output_type": "execute_result"
    }
   ],
   "source": [
    "df.duplicated().any()"
   ]
  },
  {
   "cell_type": "code",
   "execution_count": 31,
   "id": "8e0e9e32",
   "metadata": {},
   "outputs": [
    {
     "data": {
      "text/plain": [
       "0"
      ]
     },
     "execution_count": 31,
     "metadata": {},
     "output_type": "execute_result"
    }
   ],
   "source": [
    "df.duplicated().sum()"
   ]
  },
  {
   "cell_type": "markdown",
   "id": "eaefac44",
   "metadata": {},
   "source": [
    "# Finding & Handling Ouliers"
   ]
  },
  {
   "cell_type": "code",
   "execution_count": 32,
   "id": "1379d3e0",
   "metadata": {},
   "outputs": [
    {
     "data": {
      "text/html": [
       "<div>\n",
       "<style scoped>\n",
       "    .dataframe tbody tr th:only-of-type {\n",
       "        vertical-align: middle;\n",
       "    }\n",
       "\n",
       "    .dataframe tbody tr th {\n",
       "        vertical-align: top;\n",
       "    }\n",
       "\n",
       "    .dataframe thead th {\n",
       "        text-align: right;\n",
       "    }\n",
       "</style>\n",
       "<table border=\"1\" class=\"dataframe\">\n",
       "  <thead>\n",
       "    <tr style=\"text-align: right;\">\n",
       "      <th></th>\n",
       "      <th>CustomerID</th>\n",
       "      <th>Gender</th>\n",
       "      <th>Age</th>\n",
       "      <th>Annual Income (k$)</th>\n",
       "      <th>Spending Score (1-100)</th>\n",
       "    </tr>\n",
       "  </thead>\n",
       "  <tbody>\n",
       "    <tr>\n",
       "      <th>0.25</th>\n",
       "      <td>50.75</td>\n",
       "      <td>0.0</td>\n",
       "      <td>28.75</td>\n",
       "      <td>41.5</td>\n",
       "      <td>34.75</td>\n",
       "    </tr>\n",
       "    <tr>\n",
       "      <th>0.75</th>\n",
       "      <td>150.25</td>\n",
       "      <td>1.0</td>\n",
       "      <td>49.00</td>\n",
       "      <td>78.0</td>\n",
       "      <td>73.00</td>\n",
       "    </tr>\n",
       "  </tbody>\n",
       "</table>\n",
       "</div>"
      ],
      "text/plain": [
       "      CustomerID  Gender    Age  Annual Income (k$)  Spending Score (1-100)\n",
       "0.25       50.75     0.0  28.75                41.5                   34.75\n",
       "0.75      150.25     1.0  49.00                78.0                   73.00"
      ]
     },
     "execution_count": 32,
     "metadata": {},
     "output_type": "execute_result"
    }
   ],
   "source": [
    "quantile = df.quantile(q = [0.25, 0.75])\n",
    "quantile"
   ]
  },
  {
   "cell_type": "code",
   "execution_count": 37,
   "id": "2c28847f",
   "metadata": {},
   "outputs": [
    {
     "data": {
      "text/plain": [
       "CustomerID                99.50\n",
       "Gender                     1.00\n",
       "Age                       20.25\n",
       "Annual Income (k$)        36.50\n",
       "Spending Score (1-100)    38.25\n",
       "dtype: float64"
      ]
     },
     "execution_count": 37,
     "metadata": {},
     "output_type": "execute_result"
    }
   ],
   "source": [
    "iqr=quantile.iloc[1] - quantile.iloc[0]\n",
    "iqr"
   ]
  },
  {
   "cell_type": "code",
   "execution_count": 39,
   "id": "378b2f17",
   "metadata": {},
   "outputs": [],
   "source": [
    "upper = quantile.iloc[1] + (1.5 *iqr)"
   ]
  },
  {
   "cell_type": "code",
   "execution_count": 40,
   "id": "4e2f6bfd",
   "metadata": {},
   "outputs": [
    {
     "data": {
      "text/plain": [
       "CustomerID                299.500\n",
       "Gender                      2.500\n",
       "Age                        79.375\n",
       "Annual Income (k$)        132.750\n",
       "Spending Score (1-100)    130.375\n",
       "dtype: float64"
      ]
     },
     "execution_count": 40,
     "metadata": {},
     "output_type": "execute_result"
    }
   ],
   "source": [
    "upper"
   ]
  },
  {
   "cell_type": "code",
   "execution_count": 41,
   "id": "084187e2",
   "metadata": {},
   "outputs": [
    {
     "data": {
      "text/plain": [
       "CustomerID               -98.500\n",
       "Gender                    -1.500\n",
       "Age                       -1.625\n",
       "Annual Income (k$)       -13.250\n",
       "Spending Score (1-100)   -22.625\n",
       "dtype: float64"
      ]
     },
     "execution_count": 41,
     "metadata": {},
     "output_type": "execute_result"
    }
   ],
   "source": [
    "lower = quantile.iloc[0] - (1.5* iqr)\n",
    "lower"
   ]
  },
  {
   "cell_type": "code",
   "execution_count": 42,
   "id": "30da1b0d",
   "metadata": {},
   "outputs": [
    {
     "data": {
      "text/plain": [
       "CustomerID                100.50\n",
       "Gender                      0.44\n",
       "Age                        38.85\n",
       "Annual Income (k$)         60.56\n",
       "Spending Score (1-100)     50.20\n",
       "dtype: float64"
      ]
     },
     "execution_count": 42,
     "metadata": {},
     "output_type": "execute_result"
    }
   ],
   "source": [
    "df.mean()"
   ]
  },
  {
   "cell_type": "code",
   "execution_count": 43,
   "id": "f8f83a39",
   "metadata": {},
   "outputs": [
    {
     "data": {
      "text/plain": [
       "137"
      ]
     },
     "execution_count": 43,
     "metadata": {},
     "output_type": "execute_result"
    }
   ],
   "source": [
    "df['Annual Income (k$)'].max()"
   ]
  },
  {
   "cell_type": "code",
   "execution_count": 45,
   "id": "50e9d726",
   "metadata": {},
   "outputs": [
    {
     "data": {
      "text/plain": [
       "<AxesSubplot:>"
      ]
     },
     "execution_count": 45,
     "metadata": {},
     "output_type": "execute_result"
    },
    {
     "data": {
      "image/png": "[encoded data removed]",
      "text/plain": [
       "<Figure size 432x288 with 1 Axes>"
      ]
     },
     "metadata": {
      "needs_background": "light"
     },
     "output_type": "display_data"
    }
   ],
   "source": [
    "sns.boxplot(data=df['CustomerID'])"
   ]
  },
  {
   "cell_type": "code",
   "execution_count": 46,
   "id": "966d9352",
   "metadata": {},
   "outputs": [
    {
     "data": {
      "text/plain": [
       "<AxesSubplot:>"
      ]
     },
     "execution_count": 46,
     "metadata": {},
     "output_type": "execute_result"
    },
    {
     "data": {
      "image/png": "[encoded data removed]",
      "text/plain": [
       "<Figure size 432x288 with 1 Axes>"
      ]
     },
     "metadata": {
      "needs_background": "light"
     },
     "output_type": "display_data"
    }
   ],
   "source": [
    "sns.boxplot(data=df['Gender'])"
   ]
  },
  {
   "cell_type": "code",
   "execution_count": 51,
   "id": "58938447",
   "metadata": {},
   "outputs": [
    {
     "data": {
      "text/plain": [
       "<AxesSubplot:>"
      ]
     },
     "execution_count": 51,
     "metadata": {},
     "output_type": "execute_result"
    },
    {
     "data": {
      "image/png": "[encoded data removed]",
      "text/plain": [
       "<Figure size 432x288 with 1 Axes>"
      ]
     },
     "metadata": {
      "needs_background": "light"
     },
     "output_type": "display_data"
    }
   ],
   "source": [
    "sns.boxplot(data=df['Age'])"
   ]
  },
  {
   "cell_type": "code",
   "execution_count": 52,
   "id": "b68d4b0d",
   "metadata": {},
   "outputs": [
    {
     "data": {
      "text/plain": [
       "<AxesSubplot:>"
      ]
     },
     "execution_count": 52,
     "metadata": {},
     "output_type": "execute_result"
    },
    {
     "data": {
      "image/png": "[encoded data removed]",
      "text/plain": [
       "<Figure size 432x288 with 1 Axes>"
      ]
     },
     "metadata": {
      "needs_background": "light"
     },
     "output_type": "display_data"
    }
   ],
   "source": [
    "sns.boxplot(data=df['Annual Income (k$)'])"
   ]
  },
  {
   "cell_type": "code",
   "execution_count": 53,
   "id": "6ecdcc43",
   "metadata": {},
   "outputs": [],
   "source": [
    "df['Annual Income (k$)'] = np.where(df['Annual Income (k$)'] > 132.750, 60.55, df['Annual Income (k$)'])"
   ]
  },
  {
   "cell_type": "code",
   "execution_count": 54,
   "id": "e1c51362",
   "metadata": {},
   "outputs": [
    {
     "data": {
      "text/plain": [
       "<AxesSubplot:>"
      ]
     },
     "execution_count": 54,
     "metadata": {},
     "output_type": "execute_result"
    },
    {
     "data": {
      "image/png": "[encoded data removed]",
      "text/plain": [
       "<Figure size 432x288 with 1 Axes>"
      ]
     },
     "metadata": {
      "needs_background": "light"
     },
     "output_type": "display_data"
    }
   ],
   "source": [
    "sns.boxplot(data=df['Annual Income (k$)'])"
   ]
  },
  {
   "cell_type": "code",
   "execution_count": 55,
   "id": "124be32e",
   "metadata": {},
   "outputs": [
    {
     "data": {
      "text/plain": [
       "126.0"
      ]
     },
     "execution_count": 55,
     "metadata": {},
     "output_type": "execute_result"
    }
   ],
   "source": [
    "df['Annual Income (k$)'].max()"
   ]
  },
  {
   "cell_type": "code",
   "execution_count": 56,
   "id": "f1dc0de6",
   "metadata": {},
   "outputs": [
    {
     "data": {
      "text/plain": [
       "<AxesSubplot:>"
      ]
     },
     "execution_count": 56,
     "metadata": {},
     "output_type": "execute_result"
    },
    {
     "data": {
      "image/png": "[encoded data removed]",
      "text/plain": [
       "<Figure size 432x288 with 1 Axes>"
      ]
     },
     "metadata": {
      "needs_background": "light"
     },
     "output_type": "display_data"
    }
   ],
   "source": [
    "sns.boxplot(data=df['Spending Score (1-100)'])"
   ]
  },
  {
   "cell_type": "markdown",
   "id": "779f4f1e",
   "metadata": {},
   "source": [
    "#  Check for Categorical columns and perform encoding."
   ]
  },
  {
   "cell_type": "code",
   "execution_count": 103,
   "id": "9bf52338",
   "metadata": {},
   "outputs": [
    {
     "data": {
      "text/html": [
       "<div>\n",
       "<style scoped>\n",
       "    .dataframe tbody tr th:only-of-type {\n",
       "        vertical-align: middle;\n",
       "    }\n",
       "\n",
       "    .dataframe tbody tr th {\n",
       "        vertical-align: top;\n",
       "    }\n",
       "\n",
       "    .dataframe thead th {\n",
       "        text-align: right;\n",
       "    }\n",
       "</style>\n",
       "<table border=\"1\" class=\"dataframe\">\n",
       "  <thead>\n",
       "    <tr style=\"text-align: right;\">\n",
       "      <th></th>\n",
       "      <th>CustomerID</th>\n",
       "      <th>Gender</th>\n",
       "      <th>Age</th>\n",
       "      <th>Annual Income (k$)</th>\n",
       "      <th>Spending Score (1-100)</th>\n",
       "    </tr>\n",
       "  </thead>\n",
       "  <tbody>\n",
       "    <tr>\n",
       "      <th>0</th>\n",
       "      <td>1</td>\n",
       "      <td>Male</td>\n",
       "      <td>19</td>\n",
       "      <td>15</td>\n",
       "      <td>39</td>\n",
       "    </tr>\n",
       "    <tr>\n",
       "      <th>1</th>\n",
       "      <td>2</td>\n",
       "      <td>Male</td>\n",
       "      <td>21</td>\n",
       "      <td>15</td>\n",
       "      <td>81</td>\n",
       "    </tr>\n",
       "    <tr>\n",
       "      <th>2</th>\n",
       "      <td>3</td>\n",
       "      <td>Female</td>\n",
       "      <td>20</td>\n",
       "      <td>16</td>\n",
       "      <td>6</td>\n",
       "    </tr>\n",
       "    <tr>\n",
       "      <th>3</th>\n",
       "      <td>4</td>\n",
       "      <td>Female</td>\n",
       "      <td>23</td>\n",
       "      <td>16</td>\n",
       "      <td>77</td>\n",
       "    </tr>\n",
       "    <tr>\n",
       "      <th>4</th>\n",
       "      <td>5</td>\n",
       "      <td>Female</td>\n",
       "      <td>31</td>\n",
       "      <td>17</td>\n",
       "      <td>40</td>\n",
       "    </tr>\n",
       "    <tr>\n",
       "      <th>...</th>\n",
       "      <td>...</td>\n",
       "      <td>...</td>\n",
       "      <td>...</td>\n",
       "      <td>...</td>\n",
       "      <td>...</td>\n",
       "    </tr>\n",
       "    <tr>\n",
       "      <th>195</th>\n",
       "      <td>196</td>\n",
       "      <td>Female</td>\n",
       "      <td>35</td>\n",
       "      <td>120</td>\n",
       "      <td>79</td>\n",
       "    </tr>\n",
       "    <tr>\n",
       "      <th>196</th>\n",
       "      <td>197</td>\n",
       "      <td>Female</td>\n",
       "      <td>45</td>\n",
       "      <td>126</td>\n",
       "      <td>28</td>\n",
       "    </tr>\n",
       "    <tr>\n",
       "      <th>197</th>\n",
       "      <td>198</td>\n",
       "      <td>Male</td>\n",
       "      <td>32</td>\n",
       "      <td>126</td>\n",
       "      <td>74</td>\n",
       "    </tr>\n",
       "    <tr>\n",
       "      <th>198</th>\n",
       "      <td>199</td>\n",
       "      <td>Male</td>\n",
       "      <td>32</td>\n",
       "      <td>137</td>\n",
       "      <td>18</td>\n",
       "    </tr>\n",
       "    <tr>\n",
       "      <th>199</th>\n",
       "      <td>200</td>\n",
       "      <td>Male</td>\n",
       "      <td>30</td>\n",
       "      <td>137</td>\n",
       "      <td>83</td>\n",
       "    </tr>\n",
       "  </tbody>\n",
       "</table>\n",
       "<p>200 rows × 5 columns</p>\n",
       "</div>"
      ],
      "text/plain": [
       "     CustomerID  Gender  Age  Annual Income (k$)  Spending Score (1-100)\n",
       "0             1    Male   19                  15                      39\n",
       "1             2    Male   21                  15                      81\n",
       "2             3  Female   20                  16                       6\n",
       "3             4  Female   23                  16                      77\n",
       "4             5  Female   31                  17                      40\n",
       "..          ...     ...  ...                 ...                     ...\n",
       "195         196  Female   35                 120                      79\n",
       "196         197  Female   45                 126                      28\n",
       "197         198    Male   32                 126                      74\n",
       "198         199    Male   32                 137                      18\n",
       "199         200    Male   30                 137                      83\n",
       "\n",
       "[200 rows x 5 columns]"
      ]
     },
     "execution_count": 103,
     "metadata": {},
     "output_type": "execute_result"
    }
   ],
   "source": [
    "df = pd.read_csv('Mall_Customers.csv')\n",
    "df['Gender']\n",
    "df"
   ]
  },
  {
   "cell_type": "code",
   "execution_count": 101,
   "id": "ac2fbcf1",
   "metadata": {},
   "outputs": [],
   "source": [
    "from sklearn.preprocessing import LabelEncoder\n",
    "le = LabelEncoder()\n",
    "df['Gender'] = le.fit_transform(df['Gender'])"
   ]
  },
  {
   "cell_type": "code",
   "execution_count": 102,
   "id": "465050a0",
   "metadata": {},
   "outputs": [
    {
     "data": {
      "text/html": [
       "<div>\n",
       "<style scoped>\n",
       "    .dataframe tbody tr th:only-of-type {\n",
       "        vertical-align: middle;\n",
       "    }\n",
       "\n",
       "    .dataframe tbody tr th {\n",
       "        vertical-align: top;\n",
       "    }\n",
       "\n",
       "    .dataframe thead th {\n",
       "        text-align: right;\n",
       "    }\n",
       "</style>\n",
       "<table border=\"1\" class=\"dataframe\">\n",
       "  <thead>\n",
       "    <tr style=\"text-align: right;\">\n",
       "      <th></th>\n",
       "      <th>CustomerID</th>\n",
       "      <th>Gender</th>\n",
       "      <th>Age</th>\n",
       "      <th>Annual Income (k$)</th>\n",
       "      <th>Spending Score (1-100)</th>\n",
       "    </tr>\n",
       "  </thead>\n",
       "  <tbody>\n",
       "    <tr>\n",
       "      <th>0</th>\n",
       "      <td>1</td>\n",
       "      <td>1</td>\n",
       "      <td>19</td>\n",
       "      <td>15</td>\n",
       "      <td>39</td>\n",
       "    </tr>\n",
       "    <tr>\n",
       "      <th>1</th>\n",
       "      <td>2</td>\n",
       "      <td>1</td>\n",
       "      <td>21</td>\n",
       "      <td>15</td>\n",
       "      <td>81</td>\n",
       "    </tr>\n",
       "    <tr>\n",
       "      <th>2</th>\n",
       "      <td>3</td>\n",
       "      <td>0</td>\n",
       "      <td>20</td>\n",
       "      <td>16</td>\n",
       "      <td>6</td>\n",
       "    </tr>\n",
       "    <tr>\n",
       "      <th>3</th>\n",
       "      <td>4</td>\n",
       "      <td>0</td>\n",
       "      <td>23</td>\n",
       "      <td>16</td>\n",
       "      <td>77</td>\n",
       "    </tr>\n",
       "    <tr>\n",
       "      <th>4</th>\n",
       "      <td>5</td>\n",
       "      <td>0</td>\n",
       "      <td>31</td>\n",
       "      <td>17</td>\n",
       "      <td>40</td>\n",
       "    </tr>\n",
       "    <tr>\n",
       "      <th>...</th>\n",
       "      <td>...</td>\n",
       "      <td>...</td>\n",
       "      <td>...</td>\n",
       "      <td>...</td>\n",
       "      <td>...</td>\n",
       "    </tr>\n",
       "    <tr>\n",
       "      <th>195</th>\n",
       "      <td>196</td>\n",
       "      <td>0</td>\n",
       "      <td>35</td>\n",
       "      <td>120</td>\n",
       "      <td>79</td>\n",
       "    </tr>\n",
       "    <tr>\n",
       "      <th>196</th>\n",
       "      <td>197</td>\n",
       "      <td>0</td>\n",
       "      <td>45</td>\n",
       "      <td>126</td>\n",
       "      <td>28</td>\n",
       "    </tr>\n",
       "    <tr>\n",
       "      <th>197</th>\n",
       "      <td>198</td>\n",
       "      <td>1</td>\n",
       "      <td>32</td>\n",
       "      <td>126</td>\n",
       "      <td>74</td>\n",
       "    </tr>\n",
       "    <tr>\n",
       "      <th>198</th>\n",
       "      <td>199</td>\n",
       "      <td>1</td>\n",
       "      <td>32</td>\n",
       "      <td>137</td>\n",
       "      <td>18</td>\n",
       "    </tr>\n",
       "    <tr>\n",
       "      <th>199</th>\n",
       "      <td>200</td>\n",
       "      <td>1</td>\n",
       "      <td>30</td>\n",
       "      <td>137</td>\n",
       "      <td>83</td>\n",
       "    </tr>\n",
       "  </tbody>\n",
       "</table>\n",
       "<p>200 rows × 5 columns</p>\n",
       "</div>"
      ],
      "text/plain": [
       "     CustomerID  Gender  Age  Annual Income (k$)  Spending Score (1-100)\n",
       "0             1       1   19                  15                      39\n",
       "1             2       1   21                  15                      81\n",
       "2             3       0   20                  16                       6\n",
       "3             4       0   23                  16                      77\n",
       "4             5       0   31                  17                      40\n",
       "..          ...     ...  ...                 ...                     ...\n",
       "195         196       0   35                 120                      79\n",
       "196         197       0   45                 126                      28\n",
       "197         198       1   32                 126                      74\n",
       "198         199       1   32                 137                      18\n",
       "199         200       1   30                 137                      83\n",
       "\n",
       "[200 rows x 5 columns]"
      ]
     },
     "execution_count": 102,
     "metadata": {},
     "output_type": "execute_result"
    }
   ],
   "source": [
    "df"
   ]
  },
  {
   "cell_type": "markdown",
   "id": "6d324c9a",
   "metadata": {},
   "source": [
    "# Scaling the data"
   ]
  },
  {
   "cell_type": "code",
   "execution_count": 79,
   "id": "69f13b8c",
   "metadata": {},
   "outputs": [
    {
     "data": {
      "text/plain": [
       "array([[-1.7234121 ,  1.12815215, -1.42456879, -1.73899919, -0.43480148],\n",
       "       [-1.70609137,  1.12815215, -1.28103541, -1.73899919,  1.19570407],\n",
       "       [-1.68877065, -0.88640526, -1.3528021 , -1.70082976, -1.71591298],\n",
       "       [-1.67144992, -0.88640526, -1.13750203, -1.70082976,  1.04041783],\n",
       "       [-1.6541292 , -0.88640526, -0.56336851, -1.66266033, -0.39597992],\n",
       "       [-1.63680847, -0.88640526, -1.20926872, -1.66266033,  1.00159627],\n",
       "       [-1.61948775, -0.88640526, -0.27630176, -1.62449091, -1.71591298],\n",
       "       [-1.60216702, -0.88640526, -1.13750203, -1.62449091,  1.70038436],\n",
       "       [-1.5848463 ,  1.12815215,  1.80493225, -1.58632148, -1.83237767],\n",
       "       [-1.56752558, -0.88640526, -0.6351352 , -1.58632148,  0.84631002],\n",
       "       [-1.55020485,  1.12815215,  2.02023231, -1.58632148, -1.4053405 ],\n",
       "       [-1.53288413, -0.88640526, -0.27630176, -1.58632148,  1.89449216],\n",
       "       [-1.5155634 , -0.88640526,  1.37433211, -1.54815205, -1.36651894],\n",
       "       [-1.49824268, -0.88640526, -1.06573534, -1.54815205,  1.04041783],\n",
       "       [-1.48092195,  1.12815215, -0.13276838, -1.54815205, -1.44416206],\n",
       "       [-1.46360123,  1.12815215, -1.20926872, -1.54815205,  1.11806095],\n",
       "       [-1.4462805 , -0.88640526, -0.27630176, -1.50998262, -0.59008772],\n",
       "       [-1.42895978,  1.12815215, -1.3528021 , -1.50998262,  0.61338066],\n",
       "       [-1.41163905,  1.12815215,  0.94373197, -1.43364376, -0.82301709],\n",
       "       [-1.39431833, -0.88640526, -0.27630176, -1.43364376,  1.8556706 ],\n",
       "       [-1.3769976 ,  1.12815215, -0.27630176, -1.39547433, -0.59008772],\n",
       "       [-1.35967688,  1.12815215, -0.99396865, -1.39547433,  0.88513158],\n",
       "       [-1.34235616, -0.88640526,  0.51313183, -1.3573049 , -1.75473454],\n",
       "       [-1.32503543,  1.12815215, -0.56336851, -1.3573049 ,  0.88513158],\n",
       "       [-1.30771471, -0.88640526,  1.08726535, -1.24279661, -1.4053405 ],\n",
       "       [-1.29039398,  1.12815215, -0.70690189, -1.24279661,  1.23452563],\n",
       "       [-1.27307326, -0.88640526,  0.44136514, -1.24279661, -0.7065524 ],\n",
       "       [-1.25575253,  1.12815215, -0.27630176, -1.24279661,  0.41927286],\n",
       "       [-1.23843181, -0.88640526,  0.08253169, -1.20462718, -0.74537397],\n",
       "       [-1.22111108, -0.88640526, -1.13750203, -1.20462718,  1.42863343],\n",
       "       [-1.20379036,  1.12815215,  1.51786549, -1.16645776, -1.7935561 ],\n",
       "       [-1.18646963, -0.88640526, -1.28103541, -1.16645776,  0.88513158],\n",
       "       [-1.16914891,  1.12815215,  1.01549866, -1.05194947, -1.7935561 ],\n",
       "       [-1.15182818,  1.12815215, -1.49633548, -1.05194947,  1.62274124],\n",
       "       [-1.13450746, -0.88640526,  0.7284319 , -1.05194947, -1.4053405 ],\n",
       "       [-1.11718674, -0.88640526, -1.28103541, -1.05194947,  1.19570407],\n",
       "       [-1.09986601, -0.88640526,  0.22606507, -1.01378004, -1.28887582],\n",
       "       [-1.08254529, -0.88640526, -0.6351352 , -1.01378004,  0.88513158],\n",
       "       [-1.06522456, -0.88640526, -0.20453507, -0.89927175, -0.93948177],\n",
       "       [-1.04790384, -0.88640526, -1.3528021 , -0.89927175,  0.96277471],\n",
       "       [-1.03058311, -0.88640526,  1.87669894, -0.86110232, -0.59008772],\n",
       "       [-1.01326239,  1.12815215, -1.06573534, -0.86110232,  1.62274124],\n",
       "       [-0.99594166,  1.12815215,  0.65666521, -0.82293289, -0.55126616],\n",
       "       [-0.97862094, -0.88640526, -0.56336851, -0.82293289,  0.41927286],\n",
       "       [-0.96130021, -0.88640526,  0.7284319 , -0.82293289, -0.86183865],\n",
       "       [-0.94397949, -0.88640526, -1.06573534, -0.82293289,  0.5745591 ],\n",
       "       [-0.92665877, -0.88640526,  0.80019859, -0.78476346,  0.18634349],\n",
       "       [-0.90933804, -0.88640526, -0.85043527, -0.78476346, -0.12422899],\n",
       "       [-0.89201732, -0.88640526, -0.70690189, -0.78476346, -0.3183368 ],\n",
       "       [-0.87469659, -0.88640526, -0.56336851, -0.78476346, -0.3183368 ],\n",
       "       [-0.85737587, -0.88640526,  0.7284319 , -0.70842461,  0.06987881],\n",
       "       [-0.84005514,  1.12815215, -0.41983513, -0.70842461,  0.38045129],\n",
       "       [-0.82273442, -0.88640526, -0.56336851, -0.67025518,  0.14752193],\n",
       "       [-0.80541369,  1.12815215,  1.4460988 , -0.67025518,  0.38045129],\n",
       "       [-0.78809297, -0.88640526,  0.80019859, -0.67025518, -0.20187212],\n",
       "       [-0.77077224,  1.12815215,  0.58489852, -0.67025518, -0.35715836],\n",
       "       [-0.75345152, -0.88640526,  0.87196528, -0.63208575, -0.00776431],\n",
       "       [-0.73613079,  1.12815215,  2.16376569, -0.63208575, -0.16305055],\n",
       "       [-0.71881007, -0.88640526, -0.85043527, -0.55574689,  0.03105725],\n",
       "       [-0.70148935,  1.12815215,  1.01549866, -0.55574689, -0.16305055],\n",
       "       [-0.68416862,  1.12815215,  2.23553238, -0.55574689,  0.22516505],\n",
       "       [-0.6668479 ,  1.12815215, -1.42456879, -0.55574689,  0.18634349],\n",
       "       [-0.64952717, -0.88640526,  2.02023231, -0.51757746,  0.06987881],\n",
       "       [-0.63220645, -0.88640526,  1.08726535, -0.51757746,  0.34162973],\n",
       "       [-0.61488572,  1.12815215,  1.73316556, -0.47940803,  0.03105725],\n",
       "       [-0.597565  ,  1.12815215, -1.49633548, -0.47940803,  0.34162973],\n",
       "       [-0.58024427, -0.88640526,  0.29783176, -0.47940803, -0.00776431],\n",
       "       [-0.56292355, -0.88640526,  2.091999  , -0.47940803, -0.08540743],\n",
       "       [-0.54560282,  1.12815215, -1.42456879, -0.47940803,  0.34162973],\n",
       "       [-0.5282821 , -0.88640526, -0.49160182, -0.47940803, -0.12422899],\n",
       "       [-0.51096138,  1.12815215,  2.23553238, -0.4412386 ,  0.18634349],\n",
       "       [-0.49364065, -0.88640526,  0.58489852, -0.4412386 , -0.3183368 ],\n",
       "       [-0.47631993, -0.88640526,  1.51786549, -0.40306917, -0.04658587],\n",
       "       [-0.4589992 , -0.88640526,  1.51786549, -0.40306917,  0.22516505],\n",
       "       [-0.44167848,  1.12815215,  1.4460988 , -0.25039146, -0.12422899],\n",
       "       [-0.42435775,  1.12815215, -0.92220196, -0.25039146,  0.14752193],\n",
       "       [-0.40703703, -0.88640526,  0.44136514, -0.25039146,  0.10870037],\n",
       "       [-0.3897163 ,  1.12815215,  0.08253169, -0.25039146, -0.08540743],\n",
       "       [-0.37239558, -0.88640526, -1.13750203, -0.25039146,  0.06987881],\n",
       "       [-0.35507485, -0.88640526,  0.7284319 , -0.25039146, -0.3183368 ],\n",
       "       [-0.33775413,  1.12815215,  1.30256542, -0.25039146,  0.03105725],\n",
       "       [-0.3204334 ,  1.12815215, -0.06100169, -0.25039146,  0.18634349],\n",
       "       [-0.30311268,  1.12815215,  2.02023231, -0.25039146, -0.35715836],\n",
       "       [-0.28579196, -0.88640526,  0.51313183, -0.25039146, -0.24069368],\n",
       "       [-0.26847123, -0.88640526, -1.28103541, -0.25039146,  0.26398661],\n",
       "       [-0.25115051,  1.12815215,  0.65666521, -0.25039146, -0.16305055],\n",
       "       [-0.23382978, -0.88640526,  1.15903204, -0.13588317,  0.30280817],\n",
       "       [-0.21650906, -0.88640526, -1.20926872, -0.13588317,  0.18634349],\n",
       "       [-0.19918833, -0.88640526, -0.34806844, -0.09771374,  0.38045129],\n",
       "       [-0.18186761, -0.88640526,  0.80019859, -0.09771374, -0.16305055],\n",
       "       [-0.16454688, -0.88640526,  2.091999  , -0.05954431,  0.18634349],\n",
       "       [-0.14722616,  1.12815215, -1.49633548, -0.05954431, -0.35715836],\n",
       "       [-0.12990543,  1.12815215,  0.65666521, -0.02137488, -0.04658587],\n",
       "       [-0.11258471, -0.88640526,  0.08253169, -0.02137488, -0.39597992],\n",
       "       [-0.09526399, -0.88640526, -0.49160182, -0.02137488, -0.3183368 ],\n",
       "       [-0.07794326,  1.12815215, -1.06573534, -0.02137488,  0.06987881],\n",
       "       [-0.06062254, -0.88640526,  0.58489852, -0.02137488, -0.12422899],\n",
       "       [-0.04330181, -0.88640526, -0.85043527, -0.02137488, -0.00776431],\n",
       "       [-0.02598109,  1.12815215,  0.65666521,  0.01679455, -0.3183368 ],\n",
       "       [-0.00866036,  1.12815215, -1.3528021 ,  0.01679455, -0.04658587],\n",
       "       [ 0.00866036, -0.88640526, -1.13750203,  0.05496398, -0.35715836],\n",
       "       [ 0.02598109, -0.88640526,  0.7284319 ,  0.05496398, -0.08540743],\n",
       "       [ 0.04330181,  1.12815215,  2.02023231,  0.05496398,  0.34162973],\n",
       "       [ 0.06062254,  1.12815215, -0.92220196,  0.05496398,  0.18634349],\n",
       "       [ 0.07794326,  1.12815215,  0.7284319 ,  0.05496398,  0.22516505],\n",
       "       [ 0.09526399, -0.88640526, -1.28103541,  0.05496398, -0.3183368 ],\n",
       "       [ 0.11258471, -0.88640526,  1.94846562,  0.09313341, -0.00776431],\n",
       "       [ 0.12990543,  1.12815215,  1.08726535,  0.09313341, -0.16305055],\n",
       "       [ 0.14722616,  1.12815215,  2.091999  ,  0.09313341, -0.27951524],\n",
       "       [ 0.16454688,  1.12815215,  1.94846562,  0.09313341, -0.08540743],\n",
       "       [ 0.18186761,  1.12815215,  1.87669894,  0.09313341,  0.06987881],\n",
       "       [ 0.19918833, -0.88640526, -1.42456879,  0.09313341,  0.14752193],\n",
       "       [ 0.21650906, -0.88640526, -0.06100169,  0.13130284, -0.3183368 ],\n",
       "       [ 0.23382978,  1.12815215, -1.42456879,  0.13130284, -0.16305055],\n",
       "       [ 0.25115051, -0.88640526, -1.49633548,  0.16947227, -0.08540743],\n",
       "       [ 0.26847123, -0.88640526, -1.42456879,  0.16947227, -0.00776431],\n",
       "       [ 0.28579196, -0.88640526,  1.73316556,  0.16947227, -0.27951524],\n",
       "       [ 0.30311268, -0.88640526,  0.7284319 ,  0.16947227,  0.34162973],\n",
       "       [ 0.3204334 , -0.88640526,  0.87196528,  0.24581112, -0.27951524],\n",
       "       [ 0.33775413, -0.88640526,  0.80019859,  0.24581112,  0.26398661],\n",
       "       [ 0.35507485,  1.12815215, -0.85043527,  0.24581112,  0.22516505],\n",
       "       [ 0.37239558, -0.88640526, -0.06100169,  0.24581112, -0.39597992],\n",
       "       [ 0.3897163 , -0.88640526,  0.08253169,  0.32214998,  0.30280817],\n",
       "       [ 0.40703703,  1.12815215,  0.010765  ,  0.32214998,  1.58391968],\n",
       "       [ 0.42435775, -0.88640526, -1.13750203,  0.36031941, -0.82301709],\n",
       "       [ 0.44167848, -0.88640526, -0.56336851,  0.36031941,  1.04041783],\n",
       "       [ 0.4589992 ,  1.12815215,  0.29783176,  0.39848884, -0.59008772],\n",
       "       [ 0.47631993,  1.12815215,  0.08253169,  0.39848884,  1.73920592],\n",
       "       [ 0.49364065,  1.12815215,  1.4460988 ,  0.39848884, -1.52180518],\n",
       "       [ 0.51096138,  1.12815215, -0.06100169,  0.39848884,  0.96277471],\n",
       "       [ 0.5282821 ,  1.12815215,  0.58489852,  0.39848884, -1.5994483 ],\n",
       "       [ 0.54560282,  1.12815215,  0.010765  ,  0.39848884,  0.96277471],\n",
       "       [ 0.56292355, -0.88640526, -0.99396865,  0.43665827, -0.62890928],\n",
       "       [ 0.58024427, -0.88640526, -0.56336851,  0.43665827,  0.80748846],\n",
       "       [ 0.597565  ,  1.12815215, -1.3528021 ,  0.4748277 , -1.75473454],\n",
       "       [ 0.61488572, -0.88640526, -0.70690189,  0.4748277 ,  1.46745499],\n",
       "       [ 0.63220645, -0.88640526,  0.36959845,  0.4748277 , -1.67709142],\n",
       "       [ 0.64952717,  1.12815215, -0.49160182,  0.4748277 ,  0.88513158],\n",
       "       [ 0.6668479 ,  1.12815215, -1.42456879,  0.51299713, -1.56062674],\n",
       "       [ 0.68416862, -0.88640526, -0.27630176,  0.51299713,  0.84631002],\n",
       "       [ 0.70148935, -0.88640526,  1.30256542,  0.55116656, -1.75473454],\n",
       "       [ 0.71881007,  1.12815215, -0.49160182,  0.55116656,  1.6615628 ],\n",
       "       [ 0.73613079, -0.88640526, -0.77866858,  0.58933599, -0.39597992],\n",
       "       [ 0.75345152, -0.88640526, -0.49160182,  0.58933599,  1.42863343],\n",
       "       [ 0.77077224,  1.12815215, -0.99396865,  0.62750542, -1.48298362],\n",
       "       [ 0.78809297,  1.12815215, -0.77866858,  0.62750542,  1.81684904],\n",
       "       [ 0.80541369,  1.12815215,  0.65666521,  0.62750542, -0.55126616],\n",
       "       [ 0.82273442, -0.88640526, -0.49160182,  0.62750542,  0.92395314],\n",
       "       [ 0.84005514, -0.88640526, -0.34806844,  0.66567484, -1.09476801],\n",
       "       [ 0.85737587,  1.12815215, -0.34806844,  0.66567484,  1.54509812],\n",
       "       [ 0.87469659,  1.12815215,  0.29783176,  0.66567484, -1.28887582],\n",
       "       [ 0.89201732,  1.12815215,  0.010765  ,  0.66567484,  1.46745499],\n",
       "       [ 0.90933804, -0.88640526,  0.36959845,  0.66567484, -1.17241113],\n",
       "       [ 0.92665877, -0.88640526, -0.06100169,  0.66567484,  1.00159627],\n",
       "       [ 0.94397949, -0.88640526,  0.58489852,  0.66567484, -1.32769738],\n",
       "       [ 0.96130021, -0.88640526, -0.85043527,  0.66567484,  1.50627656],\n",
       "       [ 0.97862094,  1.12815215, -0.13276838,  0.66567484, -1.91002079],\n",
       "       [ 0.99594166, -0.88640526, -0.6351352 ,  0.66567484,  1.07923939],\n",
       "       [ 1.01326239,  1.12815215, -0.34806844,  0.66567484, -1.91002079],\n",
       "       [ 1.03058311, -0.88640526, -0.6351352 ,  0.66567484,  0.88513158],\n",
       "       [ 1.04790384, -0.88640526,  1.23079873,  0.70384427, -0.59008772],\n",
       "       [ 1.06522456, -0.88640526, -0.70690189,  0.70384427,  1.27334719],\n",
       "       [ 1.08254529,  1.12815215, -1.42456879,  0.78018313, -1.75473454],\n",
       "       [ 1.09986601, -0.88640526, -0.56336851,  0.78018313,  1.6615628 ],\n",
       "       [ 1.11718674,  1.12815215,  0.80019859,  0.93286085, -0.93948177],\n",
       "       [ 1.13450746, -0.88640526, -0.20453507,  0.93286085,  0.96277471],\n",
       "       [ 1.15182818,  1.12815215,  0.22606507,  0.97103028, -1.17241113],\n",
       "       [ 1.16914891, -0.88640526, -0.41983513,  0.97103028,  1.73920592],\n",
       "       [ 1.18646963, -0.88640526, -0.20453507,  1.00919971, -0.90066021],\n",
       "       [ 1.20379036,  1.12815215, -0.49160182,  1.00919971,  0.49691598],\n",
       "       [ 1.22111108,  1.12815215,  0.08253169,  1.00919971, -1.44416206],\n",
       "       [ 1.23843181,  1.12815215, -0.77866858,  1.00919971,  0.96277471],\n",
       "       [ 1.25575253,  1.12815215, -0.20453507,  1.00919971, -1.56062674],\n",
       "       [ 1.27307326,  1.12815215, -0.20453507,  1.00919971,  1.62274124],\n",
       "       [ 1.29039398, -0.88640526,  0.94373197,  1.04736914, -1.44416206],\n",
       "       [ 1.30771471, -0.88640526, -0.6351352 ,  1.04736914,  1.38981187],\n",
       "       [ 1.32503543,  1.12815215,  1.37433211,  1.04736914, -1.36651894],\n",
       "       [ 1.34235616,  1.12815215, -0.85043527,  1.04736914,  0.72984534],\n",
       "       [ 1.35967688,  1.12815215,  1.4460988 ,  1.23821628, -1.4053405 ],\n",
       "       [ 1.3769976 ,  1.12815215, -0.27630176,  1.23821628,  1.54509812],\n",
       "       [ 1.39431833, -0.88640526, -0.13276838,  1.390894  , -0.7065524 ],\n",
       "       [ 1.41163905, -0.88640526, -0.49160182,  1.390894  ,  1.38981187],\n",
       "       [ 1.42895978,  1.12815215,  0.51313183,  1.42906343, -1.36651894],\n",
       "       [ 1.4462805 , -0.88640526, -0.70690189,  1.42906343,  1.46745499],\n",
       "       [ 1.46360123, -0.88640526,  0.15429838,  1.46723286, -0.43480148],\n",
       "       [ 1.48092195,  1.12815215, -0.6351352 ,  1.46723286,  1.81684904],\n",
       "       [ 1.49824268, -0.88640526,  1.08726535,  1.54357172, -1.01712489],\n",
       "       [ 1.5155634 ,  1.12815215, -0.77866858,  1.54357172,  0.69102378],\n",
       "       [ 1.53288413, -0.88640526,  0.15429838,  1.61991057, -1.28887582],\n",
       "       [ 1.55020485, -0.88640526, -0.20453507,  1.61991057,  1.35099031],\n",
       "       [ 1.56752558, -0.88640526, -0.34806844,  1.61991057, -1.05594645],\n",
       "       [ 1.5848463 , -0.88640526, -0.49160182,  1.61991057,  0.72984534],\n",
       "       [ 1.60216702,  1.12815215, -0.41983513,  2.00160487, -1.63826986],\n",
       "       [ 1.61948775, -0.88640526, -0.06100169,  2.00160487,  1.58391968],\n",
       "       [ 1.63680847, -0.88640526,  0.58489852,  2.26879087, -1.32769738],\n",
       "       [ 1.6541292 , -0.88640526, -0.27630176,  2.26879087,  1.11806095],\n",
       "       [ 1.67144992, -0.88640526,  0.44136514,  2.49780745, -0.86183865],\n",
       "       [ 1.68877065,  1.12815215, -0.49160182,  2.49780745,  0.92395314],\n",
       "       [ 1.70609137,  1.12815215, -0.49160182,  2.91767117, -1.25005425],\n",
       "       [ 1.7234121 ,  1.12815215, -0.6351352 ,  2.91767117,  1.27334719]])"
      ]
     },
     "execution_count": 79,
     "metadata": {},
     "output_type": "execute_result"
    }
   ],
   "source": [
    "from sklearn.preprocessing import  StandardScaler\n",
    "x = StandardScaler().fit_transform(df)\n",
    "x"
   ]
  },
  {
   "cell_type": "markdown",
   "id": "a4e69e78",
   "metadata": {},
   "source": [
    "# Perform any of the clustering algorithms"
   ]
  },
  {
   "cell_type": "code",
   "execution_count": 80,
   "id": "00eac44c",
   "metadata": {},
   "outputs": [],
   "source": [
    "from sklearn.cluster import KMeans\n",
    "TWSS = []\n",
    "k = list(range(2,9))\n",
    "\n",
    "for i in k:\n",
    "  kmeans = KMeans(n_clusters = i , init = 'k-means++')\n",
    "  kmeans.fit(df)\n",
    "  TWSS.append(kmeans.inertia_)"
   ]
  },
  {
   "cell_type": "code",
   "execution_count": 81,
   "id": "34fd4e1f",
   "metadata": {},
   "outputs": [
    {
     "data": {
      "text/plain": [
       "[387065.71377137717,\n",
       " 271396.5629660315,\n",
       " 195401.19855991466,\n",
       " 157182.51630985347,\n",
       " 122630.4417533561,\n",
       " 103254.45765901907,\n",
       " 86053.67444777445]"
      ]
     },
     "execution_count": 81,
     "metadata": {},
     "output_type": "execute_result"
    }
   ],
   "source": [
    "TWSS"
   ]
  },
  {
   "cell_type": "code",
   "execution_count": 84,
   "id": "80f03997",
   "metadata": {},
   "outputs": [
    {
     "data": {
      "text/plain": [
       "[<matplotlib.lines.Line2D at 0x253f0cfaa30>]"
      ]
     },
     "execution_count": 84,
     "metadata": {},
     "output_type": "execute_result"
    },
    {
     "data": {
      "image/png": "[encoded data removed]",
      "text/plain": [
       "<Figure size 432x288 with 1 Axes>"
      ]
     },
     "metadata": {
      "needs_background": "light"
     },
     "output_type": "display_data"
    }
   ],
   "source": [
    "plt.plot(k,TWSS, 'ro--')"
   ]
  },
  {
   "cell_type": "code",
   "execution_count": 94,
   "id": "afa84e88",
   "metadata": {},
   "outputs": [
    {
     "data": {
      "text/plain": [
       "KMeans(n_clusters=6)"
      ]
     },
     "execution_count": 94,
     "metadata": {},
     "output_type": "execute_result"
    }
   ],
   "source": [
    "xx = KMeans(n_clusters = 6)\n",
    "xx.fit(df)"
   ]
  },
  {
   "cell_type": "code",
   "execution_count": 88,
   "id": "83c395e5",
   "metadata": {},
   "outputs": [],
   "source": [
    "mb = pd.Series(model.labels_)"
   ]
  },
  {
   "cell_type": "code",
   "execution_count": 92,
   "id": "ed37fdc2",
   "metadata": {},
   "outputs": [
    {
     "data": {
      "text/html": [
       "<div>\n",
       "<style scoped>\n",
       "    .dataframe tbody tr th:only-of-type {\n",
       "        vertical-align: middle;\n",
       "    }\n",
       "\n",
       "    .dataframe tbody tr th {\n",
       "        vertical-align: top;\n",
       "    }\n",
       "\n",
       "    .dataframe thead th {\n",
       "        text-align: right;\n",
       "    }\n",
       "</style>\n",
       "<table border=\"1\" class=\"dataframe\">\n",
       "  <thead>\n",
       "    <tr style=\"text-align: right;\">\n",
       "      <th></th>\n",
       "      <th>CustomerID</th>\n",
       "      <th>Gender</th>\n",
       "      <th>Age</th>\n",
       "      <th>Annual Income (k$)</th>\n",
       "      <th>Spending Score (1-100)</th>\n",
       "      <th>Cluster</th>\n",
       "    </tr>\n",
       "  </thead>\n",
       "  <tbody>\n",
       "    <tr>\n",
       "      <th>0</th>\n",
       "      <td>1</td>\n",
       "      <td>1</td>\n",
       "      <td>19</td>\n",
       "      <td>15</td>\n",
       "      <td>39</td>\n",
       "      <td>1</td>\n",
       "    </tr>\n",
       "    <tr>\n",
       "      <th>1</th>\n",
       "      <td>2</td>\n",
       "      <td>1</td>\n",
       "      <td>21</td>\n",
       "      <td>15</td>\n",
       "      <td>81</td>\n",
       "      <td>1</td>\n",
       "    </tr>\n",
       "    <tr>\n",
       "      <th>2</th>\n",
       "      <td>3</td>\n",
       "      <td>0</td>\n",
       "      <td>20</td>\n",
       "      <td>16</td>\n",
       "      <td>6</td>\n",
       "      <td>1</td>\n",
       "    </tr>\n",
       "    <tr>\n",
       "      <th>3</th>\n",
       "      <td>4</td>\n",
       "      <td>0</td>\n",
       "      <td>23</td>\n",
       "      <td>16</td>\n",
       "      <td>77</td>\n",
       "      <td>1</td>\n",
       "    </tr>\n",
       "    <tr>\n",
       "      <th>4</th>\n",
       "      <td>5</td>\n",
       "      <td>0</td>\n",
       "      <td>31</td>\n",
       "      <td>17</td>\n",
       "      <td>40</td>\n",
       "      <td>1</td>\n",
       "    </tr>\n",
       "    <tr>\n",
       "      <th>...</th>\n",
       "      <td>...</td>\n",
       "      <td>...</td>\n",
       "      <td>...</td>\n",
       "      <td>...</td>\n",
       "      <td>...</td>\n",
       "      <td>...</td>\n",
       "    </tr>\n",
       "    <tr>\n",
       "      <th>195</th>\n",
       "      <td>196</td>\n",
       "      <td>0</td>\n",
       "      <td>35</td>\n",
       "      <td>120</td>\n",
       "      <td>79</td>\n",
       "      <td>0</td>\n",
       "    </tr>\n",
       "    <tr>\n",
       "      <th>196</th>\n",
       "      <td>197</td>\n",
       "      <td>0</td>\n",
       "      <td>45</td>\n",
       "      <td>126</td>\n",
       "      <td>28</td>\n",
       "      <td>2</td>\n",
       "    </tr>\n",
       "    <tr>\n",
       "      <th>197</th>\n",
       "      <td>198</td>\n",
       "      <td>1</td>\n",
       "      <td>32</td>\n",
       "      <td>126</td>\n",
       "      <td>74</td>\n",
       "      <td>0</td>\n",
       "    </tr>\n",
       "    <tr>\n",
       "      <th>198</th>\n",
       "      <td>199</td>\n",
       "      <td>1</td>\n",
       "      <td>32</td>\n",
       "      <td>137</td>\n",
       "      <td>18</td>\n",
       "      <td>2</td>\n",
       "    </tr>\n",
       "    <tr>\n",
       "      <th>199</th>\n",
       "      <td>200</td>\n",
       "      <td>1</td>\n",
       "      <td>30</td>\n",
       "      <td>137</td>\n",
       "      <td>83</td>\n",
       "      <td>0</td>\n",
       "    </tr>\n",
       "  </tbody>\n",
       "</table>\n",
       "<p>200 rows × 6 columns</p>\n",
       "</div>"
      ],
      "text/plain": [
       "     CustomerID  Gender  Age  Annual Income (k$)  Spending Score (1-100)  \\\n",
       "0             1       1   19                  15                      39   \n",
       "1             2       1   21                  15                      81   \n",
       "2             3       0   20                  16                       6   \n",
       "3             4       0   23                  16                      77   \n",
       "4             5       0   31                  17                      40   \n",
       "..          ...     ...  ...                 ...                     ...   \n",
       "195         196       0   35                 120                      79   \n",
       "196         197       0   45                 126                      28   \n",
       "197         198       1   32                 126                      74   \n",
       "198         199       1   32                 137                      18   \n",
       "199         200       1   30                 137                      83   \n",
       "\n",
       "     Cluster  \n",
       "0          1  \n",
       "1          1  \n",
       "2          1  \n",
       "3          1  \n",
       "4          1  \n",
       "..       ...  \n",
       "195        0  \n",
       "196        2  \n",
       "197        0  \n",
       "198        2  \n",
       "199        0  \n",
       "\n",
       "[200 rows x 6 columns]"
      ]
     },
     "execution_count": 92,
     "metadata": {},
     "output_type": "execute_result"
    }
   ],
   "source": [
    "df['Cluster'] = mb\n",
    "df"
   ]
  }
 ],
 "metadata": {
  "kernelspec": {
   "display_name": "Python 3 (ipykernel)",
   "language": "python",
   "name": "python3"
  },
  "language_info": {
   "codemirror_mode": {
    "name": "ipython",
    "version": 3
   },
   "file_extension": ".py",
   "mimetype": "text/x-python",
   "name": "python",
   "nbconvert_exporter": "python",
   "pygments_lexer": "ipython3",
   "version": "3.9.12"
  }
 },
 "nbformat": 4,
 "nbformat_minor": 5
}
